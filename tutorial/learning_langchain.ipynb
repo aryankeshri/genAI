{
 "cells": [
  {
   "cell_type": "code",
   "execution_count": 1,
   "id": "3cab9a17",
   "metadata": {},
   "outputs": [],
   "source": [
    "from langchain.document_loaders import TextLoader"
   ]
  },
  {
   "cell_type": "code",
   "execution_count": 5,
   "id": "6a1b4467",
   "metadata": {},
   "outputs": [
    {
     "data": {
      "text/plain": [
       "[Document(metadata={'source': 'tata_news.txt'}, page_content='Long queues outside CNG (compressed natural gas) filling stations are a common enough sight in Delhi, Mumbai, and other metros. But there has been a significant change in recent years, and it has almost gone unnoticed. The vehicles waiting patiently at these pumps aren’t limited to autorickshaws or taxis anymore; there’s a sizeable chunk of private passenger vehicles as well.\\n\\nIntroduced in the late 1990s after the Supreme Court asked the Delhi government to find an alternative to petrol and diesel to control the choking air pollution, CNG has taken a while to gain popularity. Since it was friendly on the pocket, by the early 2000s, automakers started retrofitting CNG cylinders in the boots of diesel and petrol cars. But it still wouldn’t take off.\\n\\n“There was only a limited amount of fuelling infrastructure that was available throughout the country, and you could obviously see huge lines of cars that used to gather around a CNG station to get the CNG refilled. An improvement in the infrastructure over time has aided the popularity of the powertrain,” says Rohan Kanwar Gupta, Vice President, Corporate Ratings at ratings agency ICRA.\\n\\n \\nIn 2010, India’s biggest carmaker, Maruti Suzuki India Limited, took the plunge and introduced CNG in its entry-level Alto model, becoming the first domestic automobile manufacturer to introduce the CNG powertrain. As the infrastructure developed along with tighter emission norms, CNG started to find its footing in the burgeoning automotive industry.\\n\\nR.C. Bhargava\\n \\n“We were the first to start the production of CNG cars because they were more economical than petrol cars and environmentally cleaner. They suited users with limited incomes”\\n-R.C. Bhargava,Chairman, Maruti Suzuki India Limited\\nEven so, CNG car sales languished between 2% and 4%, rising to a modest 6.6% in 2019. But then Covid-19 appears to have changed everything. Low operating costs of CNG vehicles lured customers as petrol and diesel prices soared because of supply disruptions after the Covid-induced lockdowns. A slight increase in fuelling stations helped, even as the shortage of charging infrastructure and higher upfront costs proved a roadblock for electric vehicles (EVs).\\n\\nAs a result, CNG car sales have shot through the roof. Per the government’s VAHAN database, 598,152 CNG cars were sold in FY24, a near 40% increase over the previous year. That momentum continued into Q1FY25 as CNG cars’ market share beat that of diesel for the first time at 18.3%, compared with 18% for the latter, according to the UK-headquartered data and analytics firm JATO Dynamics. And where demand has gone, supply has followed. The number of car models that are offering CNG variants has almost doubled between June 2022 and June 2024 from 13 to 24, per JATO Dynamics. Such has been the interest that a CNG-powered motorbike has also been launched.\\n\\nBut for CNG’s march to continue, many challenges need to be addressed, not least the limited CNG infrastructure. Plus, there’s the potential threat from EVs.\\n\\n\\nFor some automobile manufacturers, CNG has become the second-largest by sales volume in their portfolio after petrol. At Maruti Suzuki, which phased out diesel vehicles in 2019, the CNG portfolio is the second-largest segment after petrol by sales. The company aims to equalise its diesel market share with CNG and hybrid models even as the company plans to introduce electric vehicles by 2025. Notably, the sales of the company’s hybrids have remained lower than those of CNG.\\n\\nFor Tata Motors, the CNG portfolio raced ahead of its EV portfolio in Q1FY25. Its EV penetration remained steady at 12%. However, CNG penetration increased from 16% in FY24 to 22% in Q1FY25. “We expect to continue to build on these as new launches come through. So we’re quite happy with the CNG portfolio’s performance; it was also good from a profitability perspective,” says P.B. Balaji, Group CFO of Tata Motors.\\n\\nAs CNG adoption increases, original equipment manufacturers (OEMs) such as Maruti Suzuki, Tata Motors, and Hyundai are introducing more refined models as the technology improves.\\n\\n“A lack of availability of the powertrain across popular models had also constrained volumes. OEMs were offering select models, which were largely present in the segment. Over time, the technology has gotten more refined, and OEMs have proceeded to launch more CNG variants,” notes ICRA’s Gupta.\\n\\n\\nFor example, Maruti Suzuki forayed into the CNG segment with single-cylinder technology. Going ahead, the automobile manufacturer is working on an integrated design. R.C. Bhargava, Maruti Suzuki’s Chairman, says, “We were the first to start the production of CNG cars because they were more economical than petrol cars as well as environmentally cleaner. They suited users with limited incomes and also met environmental objectives. With the government giving high priority to building infrastructure for CNG distribution, the sale of CNG cars has been rising, and we expect to sell about 600,000 such cars this year.”\\n\\nHe believes that customers should be encouraged to buy cars that use strong hybrid technology, or CNG or ethanol and biogas, while the use of electric cars increases, and pure petrol and diesel car use should be minimised. “CNG cars are not as clean as hybrids but are better than petrol or diesel cars and also do not use oil,” he says. Maruti is the leader in the segment by quite a distance. In FY24, it accounted for a whopping 73% or about 173,000 of the 236,000 CNG cars sold, followed at a very distant second by Tata Motors at 15%. Maruti currently has 17 variants in its line-up.\\n\\nTata Motors stepped up its CNG game in 2022 by introducing advanced iCNG technology, which is currently offered in its entry-level cars. It was the first to introduce twin-cylinder technology and AMT (automated manual transmission) in the CNG segment.\\n\\nVinay Pant, Head of Marketing at Tata Motors Passenger Vehicles Ltd, says the introduction of twin-cylinder technology was a game changer. “This innovation not only enhanced the appeal of our vehicles but also attracted a broader spectrum of customers, including young buyers who value both cost efficiency and advanced features. We have expanded our product range to include CNG options across mid- to high-level variants,” says Pant.')]"
      ]
     },
     "execution_count": 5,
     "metadata": {},
     "output_type": "execute_result"
    }
   ],
   "source": [
    "loader = TextLoader(\"tata_news.txt\", encoding=\"utf8\")\n",
    "loader.load()"
   ]
  },
  {
   "cell_type": "code",
   "execution_count": 8,
   "id": "67b33394-5142-48ee-bbcf-1f9b625dc1d4",
   "metadata": {},
   "outputs": [
    {
     "data": {
      "text/plain": [
       "77"
      ]
     },
     "execution_count": 8,
     "metadata": {},
     "output_type": "execute_result"
    }
   ],
   "source": [
    "from langchain.document_loaders.csv_loader import CSVLoader\n",
    "\n",
    "loader = CSVLoader(\"movies.csv\")\n",
    "data = loader.load()\n",
    "len(data)"
   ]
  },
  {
   "cell_type": "code",
   "execution_count": 9,
   "id": "69a27e57-3ac5-4dd5-a61d-8075b9679d7d",
   "metadata": {},
   "outputs": [
    {
     "data": {
      "text/plain": [
       "Document(metadata={'source': 'movies.csv', 'row': 0}, page_content='Film: Zack and Miri Make a Porno\\nGenre: Romance\\nLead Studio: The Weinstein Company\\nAudience score %: 70\\nProfitability: 1.747541667\\nRotten Tomatoes %: 64\\nWorldwide Gross: $41.94\\nYear: 2008')"
      ]
     },
     "execution_count": 9,
     "metadata": {},
     "output_type": "execute_result"
    }
   ],
   "source": [
    "data[0]\n"
   ]
  },
  {
   "cell_type": "code",
   "execution_count": 11,
   "id": "81307b43-5fee-4644-830d-e8faa979ecb6",
   "metadata": {},
   "outputs": [
    {
     "name": "stdout",
     "output_type": "stream",
     "text": [
      "[Document(metadata={'source': 'Zack and Miri Make a Porno', 'row': 0}, page_content='Film: Zack and Miri Make a Porno\\nGenre: Romance\\nLead Studio: The Weinstein Company\\nAudience score %: 70\\nProfitability: 1.747541667\\nRotten Tomatoes %: 64\\nWorldwide Gross: $41.94\\nYear: 2008'), Document(metadata={'source': 'Youth in Revolt', 'row': 1}, page_content='Film: Youth in Revolt\\nGenre: Comedy\\nLead Studio: The Weinstein Company\\nAudience score %: 52\\nProfitability: 1.09\\nRotten Tomatoes %: 68\\nWorldwide Gross: $19.62\\nYear: 2010'), Document(metadata={'source': 'You Will Meet a Tall Dark Stranger', 'row': 2}, page_content='Film: You Will Meet a Tall Dark Stranger\\nGenre: Comedy\\nLead Studio: Independent\\nAudience score %: 35\\nProfitability: 1.211818182\\nRotten Tomatoes %: 43\\nWorldwide Gross: $26.66\\nYear: 2010'), Document(metadata={'source': 'When in Rome', 'row': 3}, page_content='Film: When in Rome\\nGenre: Comedy\\nLead Studio: Disney\\nAudience score %: 44\\nProfitability: 0\\nRotten Tomatoes %: 15\\nWorldwide Gross: $43.04\\nYear: 2010'), Document(metadata={'source': 'What Happens in Vegas', 'row': 4}, page_content='Film: What Happens in Vegas\\nGenre: Comedy\\nLead Studio: Fox\\nAudience score %: 72\\nProfitability: 6.267647029\\nRotten Tomatoes %: 28\\nWorldwide Gross: $219.37\\nYear: 2008'), Document(metadata={'source': 'Water For Elephants', 'row': 5}, page_content='Film: Water For Elephants\\nGenre: Drama\\nLead Studio: 20th Century Fox\\nAudience score %: 72\\nProfitability: 3.081421053\\nRotten Tomatoes %: 60\\nWorldwide Gross: $117.09\\nYear: 2011'), Document(metadata={'source': 'WALL-E', 'row': 6}, page_content='Film: WALL-E\\nGenre: Animation\\nLead Studio: Disney\\nAudience score %: 89\\nProfitability: 2.896019067\\nRotten Tomatoes %: 96\\nWorldwide Gross: $521.28\\nYear: 2008'), Document(metadata={'source': 'Waitress', 'row': 7}, page_content='Film: Waitress\\nGenre: Romance\\nLead Studio: Independent\\nAudience score %: 67\\nProfitability: 11.0897415\\nRotten Tomatoes %: 89\\nWorldwide Gross: $22.18\\nYear: 2007'), Document(metadata={'source': 'Waiting For Forever', 'row': 8}, page_content='Film: Waiting For Forever\\nGenre: Romance\\nLead Studio: Independent\\nAudience score %: 53\\nProfitability: 0.005\\nRotten Tomatoes %: 6\\nWorldwide Gross: $0.03\\nYear: 2011'), Document(metadata={'source': \"Valentine's Day\", 'row': 9}, page_content=\"Film: Valentine's Day\\nGenre: Comedy\\nLead Studio: Warner Bros.\\nAudience score %: 54\\nProfitability: 4.184038462\\nRotten Tomatoes %: 17\\nWorldwide Gross: $217.57\\nYear: 2010\"), Document(metadata={'source': \"Tyler Perry's Why Did I get Married\", 'row': 10}, page_content=\"Film: Tyler Perry's Why Did I get Married\\nGenre: Romance\\nLead Studio: Independent\\nAudience score %: 47\\nProfitability: 3.7241924\\nRotten Tomatoes %: 46\\nWorldwide Gross: $55.86\\nYear: 2007\"), Document(metadata={'source': 'Twilight: Breaking Dawn', 'row': 11}, page_content='Film: Twilight: Breaking Dawn\\nGenre: Romance\\nLead Studio: Independent\\nAudience score %: 68\\nProfitability: 6.383363636\\nRotten Tomatoes %: 26\\nWorldwide Gross: $702.17\\nYear: 2011'), Document(metadata={'source': 'Twilight', 'row': 12}, page_content='Film: Twilight\\nGenre: Romance\\nLead Studio: Summit\\nAudience score %: 82\\nProfitability: 10.18002703\\nRotten Tomatoes %: 49\\nWorldwide Gross: $376.66\\nYear: 2008'), Document(metadata={'source': 'The Ugly Truth', 'row': 13}, page_content='Film: The Ugly Truth\\nGenre: Comedy\\nLead Studio: Independent\\nAudience score %: 68\\nProfitability: 5.402631579\\nRotten Tomatoes %: 14\\nWorldwide Gross: $205.30\\nYear: 2009'), Document(metadata={'source': 'The Twilight Saga: New Moon', 'row': 14}, page_content='Film: The Twilight Saga: New Moon\\nGenre: Drama\\nLead Studio: Summit\\nAudience score %: 78\\nProfitability: 14.1964\\nRotten Tomatoes %: 27\\nWorldwide Gross: $709.82\\nYear: 2009'), Document(metadata={'source': \"The Time Traveler's Wife\", 'row': 15}, page_content=\"Film: The Time Traveler's Wife\\nGenre: Drama\\nLead Studio: Paramount\\nAudience score %: 65\\nProfitability: 2.598205128\\nRotten Tomatoes %: 38\\nWorldwide Gross: $101.33\\nYear: 2009\"), Document(metadata={'source': 'The Proposal', 'row': 16}, page_content='Film: The Proposal\\nGenre: Comedy\\nLead Studio: Disney\\nAudience score %: 74\\nProfitability: 7.8675\\nRotten Tomatoes %: 43\\nWorldwide Gross: $314.70\\nYear: 2009'), Document(metadata={'source': 'The Invention of Lying', 'row': 17}, page_content='Film: The Invention of Lying\\nGenre: Comedy\\nLead Studio: Warner Bros.\\nAudience score %: 47\\nProfitability: 1.751351351\\nRotten Tomatoes %: 56\\nWorldwide Gross: $32.40\\nYear: 2009'), Document(metadata={'source': 'The Heartbreak Kid', 'row': 18}, page_content='Film: The Heartbreak Kid\\nGenre: Comedy\\nLead Studio: Paramount\\nAudience score %: 41\\nProfitability: 2.129444167\\nRotten Tomatoes %: 30\\nWorldwide Gross: $127.77\\nYear: 2007'), Document(metadata={'source': 'The Duchess', 'row': 19}, page_content='Film: The Duchess\\nGenre: Drama\\nLead Studio: Paramount\\nAudience score %: 68\\nProfitability: 3.207850222\\nRotten Tomatoes %: 60\\nWorldwide Gross: $43.31\\nYear: 2008'), Document(metadata={'source': 'The Curious Case of Benjamin Button', 'row': 20}, page_content='Film: The Curious Case of Benjamin Button\\nGenre: Fantasy\\nLead Studio: Warner Bros.\\nAudience score %: 81\\nProfitability: 1.78394375\\nRotten Tomatoes %: 73\\nWorldwide Gross: $285.43\\nYear: 2008'), Document(metadata={'source': 'The Back-up Plan', 'row': 21}, page_content='Film: The Back-up Plan\\nGenre: Comedy\\nLead Studio: CBS\\nAudience score %: 47\\nProfitability: 2.202571429\\nRotten Tomatoes %: 20\\nWorldwide Gross: $77.09\\nYear: 2010'), Document(metadata={'source': 'Tangled', 'row': 22}, page_content='Film: Tangled\\nGenre: Animation\\nLead Studio: Disney\\nAudience score %: 88\\nProfitability: 1.365692308\\nRotten Tomatoes %: 89\\nWorldwide Gross: $355.01\\nYear: 2010'), Document(metadata={'source': 'Something Borrowed', 'row': 23}, page_content='Film: Something Borrowed\\nGenre: Romance\\nLead Studio: Independent\\nAudience score %: 48\\nProfitability: 1.719514286\\nRotten Tomatoes %: 15\\nWorldwide Gross: $60.18\\nYear: 2011'), Document(metadata={'source': \"She's Out of My League\", 'row': 24}, page_content=\"Film: She's Out of My League\\nGenre: Comedy\\nLead Studio: Paramount\\nAudience score %: 60\\nProfitability: 2.4405\\nRotten Tomatoes %: 57\\nWorldwide Gross: $48.81\\nYear: 2010\"), Document(metadata={'source': 'Sex and the City Two', 'row': 25}, page_content='Film: Sex and the City Two\\nGenre: Comedy\\nLead Studio: Warner Bros.\\nAudience score %: 49\\nProfitability: 2.8835\\nRotten Tomatoes %: 15\\nWorldwide Gross: $288.35\\nYear: 2010'), Document(metadata={'source': 'Sex and the City 2', 'row': 26}, page_content='Film: Sex and the City 2\\nGenre: Comedy\\nLead Studio: Warner Bros.\\nAudience score %: 49\\nProfitability: 2.8835\\nRotten Tomatoes %: 15\\nWorldwide Gross: $288.35\\nYear: 2010'), Document(metadata={'source': 'Sex and the City', 'row': 27}, page_content='Film: Sex and the City\\nGenre: Comedy\\nLead Studio: Warner Bros.\\nAudience score %: 81\\nProfitability: 7.221795791\\nRotten Tomatoes %: 49\\nWorldwide Gross: $415.25\\nYear: 2008'), Document(metadata={'source': 'Remember Me', 'row': 28}, page_content='Film: Remember Me\\nGenre: Drama\\nLead Studio: Summit\\nAudience score %: 70\\nProfitability: 3.49125\\nRotten Tomatoes %: 28\\nWorldwide Gross: $55.86\\nYear: 2010'), Document(metadata={'source': 'Rachel Getting Married', 'row': 29}, page_content='Film: Rachel Getting Married\\nGenre: Drama\\nLead Studio: Independent\\nAudience score %: 61\\nProfitability: 1.384166667\\nRotten Tomatoes %: 85\\nWorldwide Gross: $16.61\\nYear: 2008'), Document(metadata={'source': 'Penelope', 'row': 30}, page_content='Film: Penelope\\nGenre: Comedy\\nLead Studio: Summit\\nAudience score %: 74\\nProfitability: 1.382799733\\nRotten Tomatoes %: 52\\nWorldwide Gross: $20.74\\nYear: 2008'), Document(metadata={'source': 'P.S. I Love You', 'row': 31}, page_content='Film: P.S. I Love You\\nGenre: Romance\\nLead Studio: Independent\\nAudience score %: 82\\nProfitability: 5.103116833\\nRotten Tomatoes %: 21\\nWorldwide Gross: $153.09\\nYear: 2007'), Document(metadata={'source': 'Over Her Dead Body', 'row': 32}, page_content='Film: Over Her Dead Body\\nGenre: Comedy\\nLead Studio: New Line\\nAudience score %: 47\\nProfitability: 2.071\\nRotten Tomatoes %: 15\\nWorldwide Gross: $20.71\\nYear: 2008'), Document(metadata={'source': 'Our Family Wedding', 'row': 33}, page_content='Film: Our Family Wedding\\nGenre: Comedy\\nLead Studio: Independent\\nAudience score %: 49\\nProfitability: 0\\nRotten Tomatoes %: 14\\nWorldwide Gross: $21.37\\nYear: 2010'), Document(metadata={'source': 'One Day', 'row': 34}, page_content='Film: One Day\\nGenre: Romance\\nLead Studio: Independent\\nAudience score %: 54\\nProfitability: 3.682733333\\nRotten Tomatoes %: 37\\nWorldwide Gross: $55.24\\nYear: 2011'), Document(metadata={'source': 'Not Easily Broken', 'row': 35}, page_content='Film: Not Easily Broken\\nGenre: Drama\\nLead Studio: Independent\\nAudience score %: 66\\nProfitability: 2.14\\nRotten Tomatoes %: 34\\nWorldwide Gross: $10.70\\nYear: 2009'), Document(metadata={'source': 'No Reservations', 'row': 36}, page_content='Film: No Reservations\\nGenre: Comedy\\nLead Studio: Warner Bros.\\nAudience score %: 64\\nProfitability: 3.307180357\\nRotten Tomatoes %: 39\\nWorldwide Gross: $92.60\\nYear: 2007'), Document(metadata={'source': \"Nick and Norah's Infinite Playlist\", 'row': 37}, page_content=\"Film: Nick and Norah's Infinite Playlist\\nGenre: Comedy\\nLead Studio: Sony\\nAudience score %: 67\\nProfitability: 3.3527293\\nRotten Tomatoes %: 73\\nWorldwide Gross: $33.53\\nYear: 2008\"), Document(metadata={'source': \"New Year's Eve\", 'row': 38}, page_content=\"Film: New Year's Eve\\nGenre: Romance\\nLead Studio: Warner Bros.\\nAudience score %: 48\\nProfitability: 2.536428571\\nRotten Tomatoes %: 8\\nWorldwide Gross: $142.04\\nYear: 2011\"), Document(metadata={'source': 'My Week with Marilyn', 'row': 39}, page_content='Film: My Week with Marilyn\\nGenre: Drama\\nLead Studio: The Weinstein Company\\nAudience score %: 84\\nProfitability: 0.8258\\nRotten Tomatoes %: 83\\nWorldwide Gross: $8.26\\nYear: 2011'), Document(metadata={'source': 'Music and Lyrics', 'row': 40}, page_content='Film: Music and Lyrics\\nGenre: Romance\\nLead Studio: Warner Bros.\\nAudience score %: 70\\nProfitability: 3.64741055\\nRotten Tomatoes %: 63\\nWorldwide Gross: $145.90\\nYear: 2007'), Document(metadata={'source': 'Monte Carlo', 'row': 41}, page_content='Film: Monte Carlo\\nGenre: Romance\\nLead Studio: 20th Century Fox\\nAudience score %: 50\\nProfitability: 1.9832\\nRotten Tomatoes %: 38\\nWorldwide Gross: $39.66\\nYear: 2011'), Document(metadata={'source': 'Miss Pettigrew Lives for a Day', 'row': 42}, page_content='Film: Miss Pettigrew Lives for a Day\\nGenre: Comedy\\nLead Studio: Independent\\nAudience score %: 70\\nProfitability: 0.2528949\\nRotten Tomatoes %: 78\\nWorldwide Gross: $15.17\\nYear: 2008'), Document(metadata={'source': 'Midnight in Paris', 'row': 43}, page_content='Film: Midnight in Paris\\nGenre: Romence\\nLead Studio: Sony\\nAudience score %: 84\\nProfitability: 8.744705882\\nRotten Tomatoes %: 93\\nWorldwide Gross: $148.66\\nYear: 2011'), Document(metadata={'source': 'Marley and Me', 'row': 44}, page_content='Film: Marley and Me\\nGenre: Comedy\\nLead Studio: Fox\\nAudience score %: 77\\nProfitability: 3.746781818\\nRotten Tomatoes %: 63\\nWorldwide Gross: $206.07\\nYear: 2008'), Document(metadata={'source': 'Mamma Mia!', 'row': 45}, page_content='Film: Mamma Mia!\\nGenre: Comedy\\nLead Studio: Universal\\nAudience score %: 76\\nProfitability: 9.234453864\\nRotten Tomatoes %: 53\\nWorldwide Gross: $609.47\\nYear: 2008'), Document(metadata={'source': 'Mamma Mia!', 'row': 46}, page_content='Film: Mamma Mia!\\nGenre: Comedy\\nLead Studio: Universal\\nAudience score %: 76\\nProfitability: 9.234453864\\nRotten Tomatoes %: 53\\nWorldwide Gross: $609.47\\nYear: 2008'), Document(metadata={'source': 'Made of Honor', 'row': 47}, page_content='Film: Made of Honor\\nGenre: Comdy\\nLead Studio: Sony\\nAudience score %: 61\\nProfitability: 2.64906835\\nRotten Tomatoes %: 13\\nWorldwide Gross: $105.96\\nYear: 2008'), Document(metadata={'source': 'Love Happens', 'row': 48}, page_content='Film: Love Happens\\nGenre: Drama\\nLead Studio: Universal\\nAudience score %: 40\\nProfitability: 2.004444444\\nRotten Tomatoes %: 18\\nWorldwide Gross: $36.08\\nYear: 2009'), Document(metadata={'source': 'Love & Other Drugs', 'row': 49}, page_content='Film: Love & Other Drugs\\nGenre: Comedy\\nLead Studio: Fox\\nAudience score %: 55\\nProfitability: 1.817666667\\nRotten Tomatoes %: 48\\nWorldwide Gross: $54.53\\nYear: 2010'), Document(metadata={'source': 'Life as We Know It', 'row': 50}, page_content='Film: Life as We Know It\\nGenre: Comedy\\nLead Studio: Independent\\nAudience score %: 62\\nProfitability: 2.530526316\\nRotten Tomatoes %: 28\\nWorldwide Gross: $96.16\\nYear: 2010'), Document(metadata={'source': 'License to Wed', 'row': 51}, page_content='Film: License to Wed\\nGenre: Comedy\\nLead Studio: Warner Bros.\\nAudience score %: 55\\nProfitability: 1.9802064\\nRotten Tomatoes %: 8\\nWorldwide Gross: $69.31\\nYear: 2007'), Document(metadata={'source': 'Letters to Juliet', 'row': 52}, page_content='Film: Letters to Juliet\\nGenre: Comedy\\nLead Studio: Summit\\nAudience score %: 62\\nProfitability: 2.639333333\\nRotten Tomatoes %: 40\\nWorldwide Gross: $79.18\\nYear: 2010'), Document(metadata={'source': 'Leap Year', 'row': 53}, page_content='Film: Leap Year\\nGenre: Comedy\\nLead Studio: Universal\\nAudience score %: 49\\nProfitability: 1.715263158\\nRotten Tomatoes %: 21\\nWorldwide Gross: $32.59\\nYear: 2010'), Document(metadata={'source': 'Knocked Up', 'row': 54}, page_content='Film: Knocked Up\\nGenre: Comedy\\nLead Studio: Universal\\nAudience score %: 83\\nProfitability: 6.636401848\\nRotten Tomatoes %: 91\\nWorldwide Gross: $219\\nYear: 2007'), Document(metadata={'source': 'Killers', 'row': 55}, page_content='Film: Killers\\nGenre: Action\\nLead Studio: Lionsgate\\nAudience score %: 45\\nProfitability: 1.245333333\\nRotten Tomatoes %: 11\\nWorldwide Gross: $93.40\\nYear: 2010'), Document(metadata={'source': 'Just Wright', 'row': 56}, page_content='Film: Just Wright\\nGenre: Comedy\\nLead Studio: Fox\\nAudience score %: 58\\nProfitability: 1.797416667\\nRotten Tomatoes %: 45\\nWorldwide Gross: $21.57\\nYear: 2010'), Document(metadata={'source': 'Jane Eyre', 'row': 57}, page_content='Film: Jane Eyre\\nGenre: Romance\\nLead Studio: Universal\\nAudience score %: 77\\nProfitability: 0\\nRotten Tomatoes %: 85\\nWorldwide Gross: $30.15\\nYear: 2011'), Document(metadata={'source': \"It's Complicated\", 'row': 58}, page_content=\"Film: It's Complicated\\nGenre: Comedy\\nLead Studio: Universal\\nAudience score %: 63\\nProfitability: 2.642352941\\nRotten Tomatoes %: 56\\nWorldwide Gross: $224.60\\nYear: 2009\"), Document(metadata={'source': 'I Love You Phillip Morris', 'row': 59}, page_content='Film: I Love You Phillip Morris\\nGenre: Comedy\\nLead Studio: Independent\\nAudience score %: 57\\nProfitability: 1.34\\nRotten Tomatoes %: 71\\nWorldwide Gross: $20.10\\nYear: 2010'), Document(metadata={'source': 'High School Musical 3: Senior Year', 'row': 60}, page_content='Film: High School Musical 3: Senior Year\\nGenre: Comedy\\nLead Studio: Disney\\nAudience score %: 76\\nProfitability: 22.91313646\\nRotten Tomatoes %: 65\\nWorldwide Gross: $252.04\\nYear: 2008'), Document(metadata={'source': \"He's Just Not That Into You\", 'row': 61}, page_content=\"Film: He's Just Not That Into You\\nGenre: Comedy\\nLead Studio: Warner Bros.\\nAudience score %: 60\\nProfitability: 7.1536\\nRotten Tomatoes %: 42\\nWorldwide Gross: $178.84\\nYear: 2009\"), Document(metadata={'source': 'Good Luck Chuck', 'row': 62}, page_content='Film: Good Luck Chuck\\nGenre: Comedy\\nLead Studio: Lionsgate\\nAudience score %: 61\\nProfitability: 2.36768512\\nRotten Tomatoes %: 3\\nWorldwide Gross: $59.19\\nYear: 2007'), Document(metadata={'source': 'Going the Distance', 'row': 63}, page_content='Film: Going the Distance\\nGenre: Comedy\\nLead Studio: Warner Bros.\\nAudience score %: 56\\nProfitability: 1.3140625\\nRotten Tomatoes %: 53\\nWorldwide Gross: $42.05\\nYear: 2010'), Document(metadata={'source': 'Gnomeo and Juliet', 'row': 64}, page_content='Film: Gnomeo and Juliet\\nGenre: Animation\\nLead Studio: Disney\\nAudience score %: 52\\nProfitability: 5.387972222\\nRotten Tomatoes %: 56\\nWorldwide Gross: $193.97\\nYear: 2011'), Document(metadata={'source': 'Gnomeo and Juliet', 'row': 65}, page_content='Film: Gnomeo and Juliet\\nGenre: Animation\\nLead Studio: Disney\\nAudience score %: 52\\nProfitability: 5.387972222\\nRotten Tomatoes %: 56\\nWorldwide Gross: $193.97\\nYear: 2011'), Document(metadata={'source': 'Ghosts of Girlfriends Past', 'row': 66}, page_content='Film: Ghosts of Girlfriends Past\\nGenre: Comedy\\nLead Studio: Warner Bros.\\nAudience score %: 47\\nProfitability: 2.0444\\nRotten Tomatoes %: 27\\nWorldwide Gross: $102.22\\nYear: 2009'), Document(metadata={'source': 'Four Christmases', 'row': 67}, page_content='Film: Four Christmases\\nGenre: Comedy\\nLead Studio: Warner Bros.\\nAudience score %: 52\\nProfitability: 2.022925\\nRotten Tomatoes %: 26\\nWorldwide Gross: $161.83\\nYear: 2008'), Document(metadata={'source': 'Fireproof', 'row': 68}, page_content='Film: Fireproof\\nGenre: Drama\\nLead Studio: Independent\\nAudience score %: 51\\nProfitability: 66.934\\nRotten Tomatoes %: 40\\nWorldwide Gross: $33.47\\nYear: 2008'), Document(metadata={'source': 'Enchanted', 'row': 69}, page_content='Film: Enchanted\\nGenre: Comedy\\nLead Studio: Disney\\nAudience score %: 80\\nProfitability: 4.005737082\\nRotten Tomatoes %: 93\\nWorldwide Gross: $340.49\\nYear: 2007'), Document(metadata={'source': 'Dear John', 'row': 70}, page_content='Film: Dear John\\nGenre: Drama\\nLead Studio: Sony\\nAudience score %: 66\\nProfitability: 4.5988\\nRotten Tomatoes %: 29\\nWorldwide Gross: $114.97\\nYear: 2010'), Document(metadata={'source': 'Beginners', 'row': 71}, page_content='Film: Beginners\\nGenre: Comedy\\nLead Studio: Independent\\nAudience score %: 80\\nProfitability: 4.471875\\nRotten Tomatoes %: 84\\nWorldwide Gross: $14.31\\nYear: 2011'), Document(metadata={'source': 'Across the Universe', 'row': 72}, page_content='Film: Across the Universe\\nGenre: romance\\nLead Studio: Independent\\nAudience score %: 84\\nProfitability: 0.652603178\\nRotten Tomatoes %: 54\\nWorldwide Gross: $29.37\\nYear: 2007'), Document(metadata={'source': 'A Serious Man', 'row': 73}, page_content='Film: A Serious Man\\nGenre: Drama\\nLead Studio: Universal\\nAudience score %: 64\\nProfitability: 4.382857143\\nRotten Tomatoes %: 89\\nWorldwide Gross: $30.68\\nYear: 2009'), Document(metadata={'source': 'A Dangerous Method', 'row': 74}, page_content='Film: A Dangerous Method\\nGenre: Drama\\nLead Studio: Independent\\nAudience score %: 89\\nProfitability: 0.44864475\\nRotten Tomatoes %: 79\\nWorldwide Gross: $8.97\\nYear: 2011'), Document(metadata={'source': '27 Dresses', 'row': 75}, page_content='Film: 27 Dresses\\nGenre: Comedy\\nLead Studio: Fox\\nAudience score %: 71\\nProfitability: 5.3436218\\nRotten Tomatoes %: 40\\nWorldwide Gross: $160.31\\nYear: 2008'), Document(metadata={'source': '(500) Days of Summer', 'row': 76}, page_content='Film: (500) Days of Summer\\nGenre: comedy\\nLead Studio: Fox\\nAudience score %: 81\\nProfitability: 8.096\\nRotten Tomatoes %: 87\\nWorldwide Gross: $60.72\\nYear: 2009')]\n"
     ]
    }
   ],
   "source": [
    "loader = CSVLoader(file_path=\"movies.csv\", source_column=\"Film\")\n",
    "\n",
    "data = loader.load()\n",
    "\n",
    "print(data)"
   ]
  },
  {
   "cell_type": "code",
   "execution_count": 14,
   "id": "26e02f9c-6b7f-45a9-a547-ec87408fa15d",
   "metadata": {},
   "outputs": [],
   "source": [
    "from langchain_community.document_loaders import UnstructuredURLLoader\n",
    "\n",
    "loader = UnstructuredURLLoader(\n",
    "    urls=[\n",
    "        \"https://www.businesstoday.in/magazine/deep-dive/story/from-maruti-to-tata-motors-indias-top-carmakers-are-racing-to-meet-cng-demand-but-evs-and-infra-hurdles-loom-442453-2024-08-21\",\n",
    "        \"https://economictimes.indiatimes.com/industry/banking/finance/cci-nod-sought-for-merger-of-tata-motors-finance-with-tata-capital/articleshow/112690899.cms?from=mdr\"\n",
    "    ]\n",
    ") \n",
    "docs = loader.load()"
   ]
  },
  {
   "cell_type": "code",
   "execution_count": 15,
   "id": "99cd36a3-a982-49b1-9115-d49ffbfa6740",
   "metadata": {},
   "outputs": [
    {
     "data": {
      "text/plain": [
       "[Document(metadata={'source': 'https://www.businesstoday.in/magazine/deep-dive/story/from-maruti-to-tata-motors-indias-top-carmakers-are-racing-to-meet-cng-demand-but-evs-and-infra-hurdles-loom-442453-2024-08-21'}, page_content=\"Business Today\\n\\nBT Bazaar\\n\\nIndia Today\\n\\nNortheast\\n\\nIndia Today Gaming\\n\\nCosmopolitan\\n\\nHarper's Bazaar\\n\\nBrides Today\\n\\nIshq FM\\n\\nAaj Tak\\n\\nGNTTV\\n\\niChowk\\n\\nKisan Tak\\n\\nLallantop\\n\\nMalyalam\\n\\nBangla\\n\\nSports Tak\\n\\nCrime Tak\\n\\nAajtak Campus\\n\\nAstro tak\\n\\nSubscribe\\n\\nHome\\n\\nBudget 2024\\n\\nMagazine\\n\\nCover Story Editor's Note Deep Dive Interview The Buzz\\n\\nBT TV\\n\\nMarket Today Easynomics Drive Today BT Explainer\\n\\nMarket Today\\n\\nTrending Stocks Indices Stocks List Stocks News Share Market News IPO Corner\\n\\nTech Today\\n\\nUnbox Today Authen Tech Tech Deck Tech Shorts\\n\\nMoney Today\\n\\nTax Investment Insurance Tools & Calculator\\n\\nMutual Funds\\n\\nIndustry\\n\\nBanking IT Auto Energy Commodities Pharma Real Estate Telecom\\n\\nVisual Stories\\n\\nBT Reels\\n\\nevents\\n\\nSpecial\\n\\nPMS Today Immersives Economic Indicators UPSTART India Weather NRI\\n\\nBT-TR GCC Listing\\n\\nClear all\\n\\nSearch\\n\\nCOMPANIES\\n\\nNo Data Found\\n\\nINDICES ANALYSIS\\n\\nNo Data Found\\n\\nAMCs\\n\\nNo Data Found\\n\\nMUTUAL FUNDS\\n\\nNo Data Found\\n\\nNEWS\\n\\nNo Data Found\\n\\nSign in\\n\\nSubscribe\\n\\nHome\\n\\nBudget 2024\\n\\nMagazine\\n\\nCover Story\\n\\nEditor's Note\\n\\nDeep Dive\\n\\nInterview\\n\\nThe Buzz\\n\\nBT TV\\n\\nMarket Today\\n\\nEasynomics\\n\\nDrive Today\\n\\nBT Explainer\\n\\nMarket Today\\n\\nTrending Stocks\\n\\nIndices\\n\\nStocks List\\n\\nStocks News\\n\\nShare Market News\\n\\nIPO Corner\\n\\nTech Today\\n\\nUnbox Today\\n\\nAuthen Tech\\n\\nTech Deck\\n\\nTech Shorts\\n\\nMoney Today\\n\\nTax\\n\\nInvestment\\n\\nInsurance\\n\\nTools & Calculator\\n\\nMutual Funds\\n\\nIndustry\\n\\nBanking\\n\\nIT\\n\\nAuto\\n\\nEnergy\\n\\nCommodities\\n\\nPharma\\n\\nReal Estate\\n\\nTelecom\\n\\nVisual Stories\\n\\nBT Reels\\n\\nPMS Today\\n\\nImmersives\\n\\nEconomic Indicators\\n\\nUPSTART\\n\\nIndia\\n\\nWeather\\n\\nNRI\\n\\nBT-TR GCC Listing\\n\\nevents\\n\\nSpecial\\n\\nBudget 2024 Special Offer: Subscribe To Business Today – 1YR just for ₹5200 ₹499\\n\\nSUBSCRIBE\\n\\nNews\\n\\nMagazine\\n\\nDeep Dive\\n\\nFrom Maruti to Tata Motors, India's top carmakers are racing to meet CNG demand, but EVs and infra hurdles loom\\n\\nFeedback\\n\\nFrom Maruti to Tata Motors, India's top carmakers are racing to meet CNG demand, but EVs and infra hurdles loom\\n\\nIndia's top carmakers are racing to cater to the increasing demand for CNG-powered vehicles from wallet-conscious customers. But there are challenges ahead, including the limited number of CNG filling stations and the potential challenge from electric vehicles\\n\\nAstha Oriel\\n\\nPrint Edition: Sep 01, 2024\\n\\nJumping On The CNG Bandwagon\\n\\nLong queues outside CNG (compressed natural gas) filling stations are a common enough sight in Delhi, Mumbai, and other metros. But there has been a significant change in recent years, and it has almost gone unnoticed. The vehicles waiting patiently at these pumps aren’t limited to autorickshaws or taxis anymore; there’s a sizeable chunk of private passenger vehicles as well.\\n\\nEconomy\\n\\nCorporate\\n\\nMarkets\\n\\nTrending\\n\\nMagazine\\n\\nCOVID-19\\n\\nInfra\\n\\nPharma\\n\\nReal Estate\\n\\nStocks\\n\\nAuto\\n\\nWorld\\n\\nEducation\\n\\nJobs\\n\\nLifestyle\\n\\nAbout us\\n\\nContact us\\n\\nAdvertise with us\\n\\nPrivacy Policy\\n\\nTerms and Conditions\\n\\nPartners\\n\\nPress Releases\\n\\nDesign Partner\\n\\nCopyright©2024 Living Media India Limited. For reprint rights: Syndications Today\\n\\nAdd Business Today to Home Screen\\n\\nHome\\n\\nMarket\\n\\nBT TV\\n\\nReels\\n\\nMenu\\n\\nMenu\"),\n",
       " Document(metadata={'source': 'https://economictimes.indiatimes.com/industry/banking/finance/cci-nod-sought-for-merger-of-tata-motors-finance-with-tata-capital/articleshow/112690899.cms?from=mdr'}, page_content='Benchmarks\\n\\nNifty24,833.6063.4\\n\\nFEATURED FUNDS\\n\\n★★★★★\\n\\nCanara Robeco Infrastructure Fund Regular-Growth\\n\\n5Y Return\\n\\n31.74 %\\n\\nInvest Now\\n\\nFEATURED FUNDS\\n\\n★★★★★\\n\\nCanara Robeco Flexi Cap Fund Regular-Growth\\n\\n5Y Return\\n\\n21.45 %\\n\\nInvest Now\\n\\nIndustry\\n\\nEnglish EditionEnglish Editionहिन्दीગુજરાતીमराठीবাংলাಕನ್ನಡമലയാളംதமிழ்తెలుగు\\n\\n| Today\\'s ePaper\\n\\nSubscribe\\n\\nSign In\\n\\nFreedom Offer is Live\\n\\nBusiness News›Industry›Banking/Finance›Finance›CCI nod sought for merger of Tata Motors Finance with Tata Capital\\n\\nThe Economic Times daily newspaper is available online now.\\n\\nRead Today\\'s Paper\\n\\nCCI nod sought for merger of Tata Motors Finance with Tata Capital\\n\\nSECTIONS\\n\\nCCI nod sought for merger of Tata Motors Finance with Tata Capital\\n\\nBy\\n\\nBanikinkar Pattanayak\\n\\n, ET BureauLast Updated: Aug 21, 2024, 11:53:00 PM IST\\n\\nRate Story\\n\\nFollow us\\n\\nShare\\n\\nFont Size\\n\\nAbcSmall\\n\\nAbcMedium\\n\\nAbcLarge\\n\\nSave\\n\\nPrint\\n\\nComment\\n\\nSynopsis\\n\\nTata Capital Ltd has applied to the Competition Commission of India for approval to merge with Tata Motors Finance Ltd. The merger, approved by both companies\\' boards in June, will see Tata Capital issuing equity shares to TMFL shareholders, resulting in Tata Motors holding a 4.7% stake. The move aligns with Tata Motors\\' focus on emerging technologies.\\n\\nTata Capital Ltd (TCL) has sought the Competition Commission of India\\'s (CCI) approval for its proposal to absorb Tata Motors Finance Ltd (TMFL). In a filing with the antitrust regulator last week, the company said: \"The proposed transaction involves the merger of TMFL with and into TCL, with TCL being the surviving entity through a scheme of arrangement to be filed with the National Company Law Tribunal.\"\\n\\nTata Motors Finance is the vehicle financing arm of Tata Motors, primarily offering financing to support sales of Tata vehicles.\\n\\nIn June, the boards of both entities had approved the merger proposal. As per the merger terms, TCL will issue its equity shares to TMFL shareholders, resulting in Tata Motors effectively holding a 4.7% stake in the merged entity. The transaction aligns with Tata Motors\\' plan to exit non-core businesses and sharpen focus on emerging technologies and products.\\n\\n(You can now subscribe to our Economic Times WhatsApp channel)\\n\\nRead More News on\\n\\ntata motorsTata Motors FinanceCCIapprovalmergerscheme of arrangementTata Capital\\n\\n(Catch all the Business News, Breaking News, Budget 2024 Events and Latest News Updates on The Economic Times.)\\n\\nSubscribe to The Economic Times Prime and read the ET ePaper online.\\n\\n...moreless\\n\\n(You can now subscribe to our Economic Times WhatsApp channel)\\n\\nRead More News on\\n\\ntata motorsTata Motors FinanceCCIapprovalmergerscheme of arrangementTata Capital\\n\\n(Catch all the Business News, Breaking News, Budget 2024 Events and Latest News Updates on The Economic Times.)\\n\\nSubscribe to The Economic Times Prime and read the ET ePaper online.\\n\\n...moreless\\n\\nPrime ExclusivesInvestment IdeasStock Report PlusePaperWealth Edition\\n\\nWhy Bhavish Aggarwal, not Google, is making investors of India’s oldest navigation startup edgy\\n\\nFrom Chandni Chowk to China, fakes are a USD1 billion reality for luxury watches\\n\\nIs Piyush Goyal planning to curb e-commerce?\\n\\nHero, Bajaj, and TVS rev up electric scooter play. But at what cost?\\n\\nAutomakers vs car dealers: Who is telling the truth?\\n\\nHow one punishment can change the way audit firms behave\\n\\n1\\n\\n2\\n\\n3\\n\\nView all Stories\\n\\nMost Searched Stocks\\n\\nIndian Railway Finance Corporation Share Price 181.09 12:35 PM | 22 Aug 2024 0.57(0.32%) One97 Communications Share Price 568.15 12:35 PM | 22 Aug 2024 -5.9(-1.03%) YES Bank Share Price 24.5 12:35 PM | 22 Aug 2024 0.06(0.21%) ITC Share Price 503.75 12:35 PM | 22 Aug 2024 -1.65(-0.33%) HDFC Bank Share Price 1632.4 12:35 PM | 22 Aug 2024 6.61(0.41%) Tata Motors Share Price 1075.45 12:35 PM | 22 Aug 2024 -9.75(-0.9%) Zomato Share Price 259.2 12:35 PM | 22 Aug 2024 -0.83(-0.32%) Adani Enterprises Share Price 3140.3 12:35 PM | 22 Aug 2024 24.61(0.79%) Infosys Share Price 1876.6 12:35 PM | 22 Aug 2024 3.9(0.21%) Reliance Industries Share Price 2992.9 12:35 PM | 22 Aug 2024 -4.45(-0.15%) Adani Power Share Price 691.75 12:35 PM | 22 Aug 2024 -3.4(-0.49%) Vedanta Share Price 455.55 12:35 PM | 22 Aug 2024 0.25(0.06%) Indian Renewable Energy Development Agency Share Price 263.7 12:35 PM | 22 Aug 2024 24.75(10.36%) NHPC Share Price 96.49 12:35 PM | 22 Aug 2024 0.55(0.58%) State Bank of India Share Price 822.2 12:35 PM | 22 Aug 2024 6.66(0.82%) Rail Vikas Nigam Share Price 570.4 12:35 PM | 22 Aug 2024 6.5(1.16%) Life Insurance Corporation of India Share Price 1078.6 12:35 PM | 22 Aug 2024 -5.56(-0.52%) Tata Steel Share Price 153.8 12:35 PM | 22 Aug 2024 1.89(1.24%) Tata Consultancy Services Share Price 4521.85 12:35 PM | 22 Aug 2024 -29.65(-0.66%) Tata Power Company Share Price 422.8 12:35 PM | 22 Aug 2024 -1.7(-0.41%) Wipro Share Price 523.5 12:35 PM | 22 Aug 2024 -2.86(-0.55%) Adani Green Energy Share Price 1905.1 12:35 PM | 22 Aug 2024 -15.75(-0.82%) Indian Railway Catering & Tourism Corporation Share Price 939.65 12:35 PM | 22 Aug 2024 4.86(0.52%) Suzlon Energy Share Price 77.75 12:35 PM | 22 Aug 2024 -1.1(-1.4%) Punjab National Bank Share Price 117.56 12:35 PM | 22 Aug 2024 1.16(0.99%) Hindustan Aeronautics Share Price 4794.0 12:35 PM | 22 Aug 2024 62.86(1.33%) Jio Financial Services Share Price 331.2 12:35 PM | 22 Aug 2024 0.1(0.04%) NBCC (India) Share Price 182.79 12:35 PM | 22 Aug 2024 1.02(0.57%) Bharat Heavy Electricals Share Price 301.0 12:35 PM | 22 Aug 2024 4.36(1.47%) Polycab India Share Price 6850.55 12:35 PM | 22 Aug 2024 62.86(0.93%) SJVN Share Price 133.79 12:35 PM | 22 Aug 2024 -2.74(-2.0%) IDFC First Bank Share Price 75.53 12:35 PM | 22 Aug 2024 1.91(2.59%) ICICI Bank Share Price 1188.25 12:35 PM | 22 Aug 2024 13.41(1.15%) Tata Technologies Share Price 1020.0 12:35 PM | 22 Aug 2024 -5.46(-0.54%) Central Depository Services (India) Share Price 2926.4 12:35 PM | 22 Aug 2024 60.31(2.11%) Ircon International Share Price 266.0 12:35 PM | 22 Aug 2024 1.31(0.5%) Jaiprakash Power Ventures Share Price 18.65 12:35 PM | 22 Aug 2024 -0.14(-0.7%) MRF Share Price 138885.0 12:35 PM | 22 Aug 2024 1053.65(0.77%) Power Finance Corporation Share Price 516.25 12:35 PM | 22 Aug 2024 0.61(0.12%) Delta Corp Share Price 130.81 12:35 PM | 22 Aug 2024 0.5(0.39%) Steel Authority of India (SAIL) Share Price 134.28 12:35 PM | 22 Aug 2024 -0.76(-0.57%) Indian Oil Corporation Share Price 174.41 12:35 PM | 22 Aug 2024 0.53(0.3%) Affle (India) Share Price 1657.9 12:35 PM | 22 Aug 2024 -5.2(-0.32%) Bajaj Finance Share Price 6749.0 12:35 PM | 22 Aug 2024 13.65(0.21%) Asian Paints Share Price 3187.65 12:35 PM | 22 Aug 2024 36.1(1.15%) Avenue Supermarts Share Price 5098.9 12:35 PM | 22 Aug 2024 -0.56(-0.02%) Indian Energy Exchange Share Price 198.65 12:35 PM | 22 Aug 2024 2.41(1.23%) REC Share Price 595.5 12:35 PM | 22 Aug 2024 1.3(0.22%) HDFC Asset Management Company Share Price 4430.0 12:35 PM | 22 Aug 2024 40.45(0.93%) Vodafone Idea Share Price 16.14 12:35 PM | 22 Aug 2024 0.21(1.26%) Housing and Urban Development Corporation Share Price 287.8 12:35 PM | 22 Aug 2024 2.66(0.93%) Reliance Power Share Price 36.98 12:35 PM | 22 Aug 2024 0.84(2.33%) Adani Total Gas Share Price 862.1 12:35 PM | 22 Aug 2024 3.06(0.36%) Bank of Baroda Share Price 255.45 12:35 PM | 22 Aug 2024 2.05(0.81%) Birlasoft Share Price 608.0 12:35 PM | 22 Aug 2024 -1.11(-0.19%) Load more..\\n\\nVideos\\n\\nOprah Winfrey urges US to \\'choose common sense\\' over nonsense\\n\\nDoug Emhoff recalls how he met Kamala Harris\\n\\nToll rises to 17 in reactor blast at Pharma factory in AP’s Anakapalli\\n\\nLatest from ET\\n\\nWaiting for a market crash? Raamdeo thinks you\\'ll be frustrated\\n\\nKolkata Rape-Murder Case: Crime scene altered?\\n\\nTax burden slashes Indians\\' overseas spending by 44%\\n\\nTop Trending Industry Terms\\n\\nRBI Monetary Policy Live UpdatesRBI MPC Meeting HighlightsBudget 2024 Live Updates\\n\\nTrending Now\\n\\nMORE\\n\\nRBI Monetary Policy Live UpdatesRBI MPC Meet HighlightsBigg Boss OTT 3 Finale Live UpdatesBudget 2024 Live News\\n\\nHot on Web\\n\\nMORE\\n\\nSensex TodayKolkata Doctor Rape-Murder Case LiveIREDA Share PricePaytm Share PriceShyam Metalics Share PriceBadlapur School Case NewsRobert Downey Jr InterviewICICI Securities Shares DelistingInd vs Pak T20 Pitch RatingUS Open 2024 PrizeSolve Plastic Products Share PriceIdeal Technoplast Industries IPOMpox VaccineJennifer Lopez DivorceDNC Day 2 Live UpdatesBroach Lifecare Hospital Share PriceOrient Technologies IPO\\n\\nIn Case you missed it\\n\\nMORE\\n\\nRBI Monetary Policy Live UpdatesRBI Meeting HighlightsBudget 2024 Live\\n\\nTop Calculators\\n\\nMORE\\n\\nStandard Deviation CalculatorIncome Tax CalculatorAge CalculatorTime CalculatorBMI CalculatorGPA CalculatorStatistics CalculatorFraction CalculatorDiabetes Risk CalculatorDate CalculatorLog Calculator\\n\\nMORE\\n\\nTop Searched Companies\\n\\nTata Elxsi Share PriceJubilant Food Share PriceBHEL Share PriceBiocon Share PriceIRB Infra Dev. Share PriceJP Power Share PriceRail Vikas Nigam Share PriceBPCL Share PricePC Jeweller Share PriceAlok Industries Share Price\\n\\nMORE\\n\\nTop Definitions\\n\\nStocksBank ReconciliationGross Domestic ProductDepreciationMarketing\\n\\nMORE\\n\\nTop Commodities\\n\\nGold Rate In DelhiGold Rate In Kolkata\\n\\nMORE\\n\\nTop Prime Articles\\n\\nHow Banks Ceded The Upi Space And Control To Phonepe And Google PaySilent Epidemic The Health Catastrophe India Is Not Talking About And Why That Should ChangeWhy A Minority Investor Wants To Stall The Long Pending Indiabulls Real Estate Embassy Group MergerMacquaries Double Upgrade Has Sparked Some Interest In Paytm Stock Should You BuyAmazons Aim To Rule Air Cargo Just Got Wings In India Why This Is Only The Start Of A Long HaulFuture Locked In A Crypt Understanding The Crackdown On Crypto Amid A Hope For A Global FrameworkDragons Prying Eye In The Sky Why Balloon Gate Should Be On Top Of Indias List Of WorriesIn 4 Stories Cognizants Tumultuous Journey5 Weekend Must Reads Featuring India Taking On The Us In Automobile ReliabilityThe Worlds Most Important Box In 3 Stories\\n\\nMORE\\n\\nTop Videos\\n\\nFall In Adani Group Stocks DecodedNew Zealand Earthquake Of Magnitude 6 1 Hits Northwest Of Wellington Amidst Cyclone GabrielleChatgpt Vs Google Bard How Do These Two Ai Chatbots Stack Up Against Each OtherExplained Us New Move On H1b And L1 VisasAir India Boeing Deal Us President Biden Speaks With Pm Modi After Landmark Agreement Of 220 AircraftKhalistani Separatist Amritpal Singh Gives Ultimatum To Punjab Govt Cancel Fir In An Hour Or ElseSensex Surges Over 200 Points Nifty50 Above 10350Why Boycott Germany Is Trending Here Is All You Need To KnowNow Reach Delhi To Jaipur Within 2 3 Hours Courtesy Delhi Mumbai ExpresswayRussia Ukraine War Ukrainian Soldiers Call For More Western Weapons\\n\\nMORE\\n\\nTop Story Listing\\n\\nAadhaar CardTwitter DownDow JonesGmail DownSnapchat Update\\n\\nMORE\\n\\nPrivate Companies\\n\\nGlobal India Services Private LimitedShreyash Retail Private LimitedBl Financial Services Private LimitedRenatus Wellness Private LimitedStatestreet Hcl Services India Private Limited\\n\\nMORE\\n\\nTop Slideshow\\n\\nGujarat Ambuja ExportsRajratan Global WireBudget 2023 Tweaked The New Income Tax SlabsPeaking OutGujarat Ambuja ExportsPackaged Fruit JuiceBudget 2023 Tweaked The New Income Tax SlabsPackaged Fruit JuiceRajratan Global WirePeaking Out\\n\\nMORE\\n\\nMost Searched IFSC Codes\\n\\nAxis BankBank Of Baroda Uttar PradeshCanara BankBank Of IndiaIndia Post Payment Bank Post Office Savings Bank All India Single Ifsc Delhi Delhi IPOS0000DOP\\n\\nLatest News\\n\\nShare price of Avenue Supermart falls as Sensex gains 205.8 pointsResourceful Automobile IPO: Check issue size, price band, GMP among other detailsCV Venkataraman on Titan\\'s strategy for luxury jewellery segmentHangyo Ice Creams raises Rs 211 crore from Faering CapitalBadlapur sexual assault: Son falsely implicated, claim parents of accusedREC shares up 0.12% as Nifty gainsRapid Mutlimodal Logistics IPO: Check issue size, price band, GMP among other detailsGroup of Ministers on rate rationalisation meets ahead of GST Council meetingFoxconn Singapore unit acquires 1.2 billion shares of India subsidiary to aid expansion\"We will protest and fight if they repeal the marriage and divorce for Muslims laws,\" says AIUDFThese 11 stocks from auto sector ecosystem can give 18-40% returns in 1 year, according to analystsJammu & Kashmir elections: Rahul Gandhi hints at coalition in UT but has a conditionManu Bhaker praises Vijay Thalapathy as \\'he is a darling\\' in viral video. Megastar\\'s fans go crazyGAIL shares fall 0.23% as Nifty gainsPNB shares gain 1.03% as Sensex rises\\n\\nFollow us on:\\n\\nDownload ET App:\\n\\nsubscribe to our newsletter\\n\\nCopyright © 2024 Bennett, Coleman & Co. Ltd. All rights reserved. For reprint rights: Times Syndication Service\\n\\nContinue reading with one of these options:\\n\\nLimited Access\\n\\nFree\\n\\nLogin to get access to some exclusive stories & personalised newsletters\\n\\nLogin Now\\n\\nUnlimited Access\\n\\nStarting @ Rs120/month\\n\\nGet access to exclusive stories, expert opinions & in-depth stock reports\\n\\nSubscribe Now\\n\\nET\\n\\nUh-oh! This is an exclusive story available for selected readers only.\\n\\nWorry not. You’re just a step away.\\n\\nPrime Account Detected!\\n\\nIt seems like you\\'re already an ETPrime member with\\n\\nLogin using your ET Prime credentials to enjoy all member benefits\\n\\nLog out of your current logged-in account and log in again using your ET Prime credentials to enjoy all member benefits.\\n\\nTo read full story, subscribe to ET Prime\\n\\nGet Unlimited Access to The Economic Times\\n\\n₹34 per week\\n\\nBilled annually at ₹2499 ₹1749\\n\\nAlready a Member? Sign In now\\n\\nSuper Saver Sale - Flat 30% Off\\n\\nOn ET Prime Membership\\n\\nClaim Offer »\\n\\nAlready a Member? Sign In now\\n\\nUnlock this story and enjoy all members-only benefits.\\n\\nOffer Exclusively For You\\n\\nSave up to Rs. 700/-\\n\\nON ET PRIME MEMBERSHIP\\n\\nAvail Offer\\n\\nOffer Exclusively For You\\n\\nGet 1 Year Free\\n\\nWith 1 and 2-Year ET prime membership\\n\\nAvail Offer\\n\\nOffer Exclusively For You\\n\\nGet 1 Year Free\\n\\nWith 1 and 2-Year ET prime membership\\n\\nAvail Offer\\n\\nOffer Exclusively For You\\n\\nGet Flat 40% Off\\n\\nThen ₹ 1749 for 1 year\\n\\nAvail Offer\\n\\nOffer Exclusively For You\\n\\nET Prime at ₹ 49 for 1 month\\n\\nThen ₹ 1749 for 1 year\\n\\nAvail Offer\\n\\nFreedom Offer\\n\\nGet flat 20% off on ETPrime\\n\\nAvail Offer\\n\\nAvail Offer\\n\\nExclusive Student Only Offer\\n\\n90 Days Prime access worth Rs999 unlocked for you\\n\\nClaim Now\\n\\nAlready a Member? Sign In now\\n\\nWhy ?\\n\\nStories you might be interested in\\n\\nSubscribe to ourET Investment Opportunities')]"
      ]
     },
     "execution_count": 15,
     "metadata": {},
     "output_type": "execute_result"
    }
   ],
   "source": [
    "docs\n"
   ]
  },
  {
   "cell_type": "code",
   "execution_count": 19,
   "id": "fccf97eb-e6ac-4367-b919-b33d58742fea",
   "metadata": {},
   "outputs": [
    {
     "data": {
      "text/plain": [
       "\"Business Today\\n\\nBT Bazaar\\n\\nIndia Today\\n\\nNortheast\\n\\nIndia Today Gaming\\n\\nCosmopolitan\\n\\nHarper's Bazaar\\n\\nBrides Today\\n\\nIshq FM\\n\\nAaj Tak\\n\\nGNTTV\\n\\niChowk\\n\\nKisan Tak\\n\\nLallantop\\n\\nMalyalam\\n\\nBangla\\n\\nSports Tak\\n\\nCrime Tak\\n\\nAajtak Campus\\n\\nAstro tak\\n\\nSubscribe\\n\\nHome\\n\\nBudget 2024\\n\\nMagazine\\n\\nCover Story Editor's Note Deep Dive Interview The Buzz\\n\\nBT TV\\n\\nMarket Today Easynomics Drive Today BT Explainer\\n\\nMarket Today\\n\\nTrending Stocks Indices Stocks List Stocks News Share Market News IPO Corner\\n\\nTech Today\\n\\nUnbox Today Authen Tech Tech Deck Tech Shorts\\n\\nMoney Today\\n\\nTax Investment Insurance Tools & Calculator\\n\\nMutual Funds\\n\\nIndustry\\n\\nBanking IT Auto Energy Commodities Pharma Real Estate Telecom\\n\\nVisual Stories\\n\\nBT Reels\\n\\nevents\\n\\nSpecial\\n\\nPMS Today Immersives Economic Indicators UPSTART India Weather NRI\\n\\nBT-TR GCC Listing\\n\\nClear all\\n\\nSearch\\n\\nCOMPANIES\\n\\nNo Data Found\\n\\nINDICES ANALYSIS\\n\\nNo Data Found\\n\\nAMCs\\n\\nNo Data Found\\n\\nMUTUAL FUNDS\\n\\nNo Data Found\\n\\nNEWS\\n\\nNo Data Found\\n\\nSign in\\n\\nSubscribe\\n\\nHome\\n\\nBudget 2024\\n\\nMagazine\\n\\nCover Story\\n\\nEditor's Note\\n\\nDeep Dive\\n\\nInterview\\n\\nThe Buzz\\n\\nBT TV\\n\\nMarket Today\\n\\nEasynomics\\n\\nDrive Today\\n\\nBT Explainer\\n\\nMarket Today\\n\\nTrending Stocks\\n\\nIndices\\n\\nStocks List\\n\\nStocks News\\n\\nShare Market News\\n\\nIPO Corner\\n\\nTech Today\\n\\nUnbox Today\\n\\nAuthen Tech\\n\\nTech Deck\\n\\nTech Shorts\\n\\nMoney Today\\n\\nTax\\n\\nInvestment\\n\\nInsurance\\n\\nTools & Calculator\\n\\nMutual Funds\\n\\nIndustry\\n\\nBanking\\n\\nIT\\n\\nAuto\\n\\nEnergy\\n\\nCommodities\\n\\nPharma\\n\\nReal Estate\\n\\nTelecom\\n\\nVisual Stories\\n\\nBT Reels\\n\\nPMS Today\\n\\nImmersives\\n\\nEconomic Indicators\\n\\nUPSTART\\n\\nIndia\\n\\nWeather\\n\\nNRI\\n\\nBT-TR GCC Listing\\n\\nevents\\n\\nSpecial\\n\\nBudget 2024 Special Offer: Subscribe To Business Today – 1YR just for ₹5200 ₹499\\n\\nSUBSCRIBE\\n\\nNews\\n\\nMagazine\\n\\nDeep Dive\\n\\nFrom Maruti to Tata Motors, India's top carmakers are racing to meet CNG demand, but EVs and infra hurdles loom\\n\\nFeedback\\n\\nFrom Maruti to Tata Motors, India's top carmakers are racing to meet CNG demand, but EVs and infra hurdles loom\\n\\nIndia's top carmakers are racing to cater to the increasing demand for CNG-powered vehicles from wallet-conscious customers. But there are challenges ahead, including the limited number of CNG filling stations and the potential challenge from electric vehicles\\n\\nAstha Oriel\\n\\nPrint Edition: Sep 01, 2024\\n\\nJumping On The CNG Bandwagon\\n\\nLong queues outside CNG (compressed natural gas) filling stations are a common enough sight in Delhi, Mumbai, and other metros. But there has been a significant change in recent years, and it has almost gone unnoticed. The vehicles waiting patiently at these pumps aren’t limited to autorickshaws or taxis anymore; there’s a sizeable chunk of private passenger vehicles as well.\\n\\nEconomy\\n\\nCorporate\\n\\nMarkets\\n\\nTrending\\n\\nMagazine\\n\\nCOVID-19\\n\\nInfra\\n\\nPharma\\n\\nReal Estate\\n\\nStocks\\n\\nAuto\\n\\nWorld\\n\\nEducation\\n\\nJobs\\n\\nLifestyle\\n\\nAbout us\\n\\nContact us\\n\\nAdvertise with us\\n\\nPrivacy Policy\\n\\nTerms and Conditions\\n\\nPartners\\n\\nPress Releases\\n\\nDesign Partner\\n\\nCopyright©2024 Living Media India Limited. For reprint rights: Syndications Today\\n\\nAdd Business Today to Home Screen\\n\\nHome\\n\\nMarket\\n\\nBT TV\\n\\nReels\\n\\nMenu\\n\\nMenu\""
      ]
     },
     "execution_count": 19,
     "metadata": {},
     "output_type": "execute_result"
    }
   ],
   "source": [
    "docs[0].page_content"
   ]
  },
  {
   "cell_type": "code",
   "execution_count": 20,
   "id": "24bcfcae-9472-49de-9983-81d39076a69d",
   "metadata": {},
   "outputs": [
    {
     "name": "stderr",
     "output_type": "stream",
     "text": [
      "Created a chunk of size 260, which is longer than the specified 200\n",
      "Created a chunk of size 378, which is longer than the specified 200\n"
     ]
    },
    {
     "data": {
      "text/plain": [
       "16"
      ]
     },
     "execution_count": 20,
     "metadata": {},
     "output_type": "execute_result"
    }
   ],
   "source": [
    "from langchain.text_splitter import CharacterTextSplitter\n",
    "\n",
    "splitor = CharacterTextSplitter(\n",
    "    separator='\\n',\n",
    "    chunk_size=200,\n",
    "    chunk_overlap=0\n",
    ")\n",
    "\n",
    "chunks = splitor.split_text(docs[0].page_content)\n",
    "len(chunks)"
   ]
  },
  {
   "cell_type": "code",
   "execution_count": 21,
   "id": "67520ad9-9892-4dc9-9c80-e1d8553bdafc",
   "metadata": {},
   "outputs": [
    {
     "data": {
      "text/plain": [
       "[\"Business Today\\nBT Bazaar\\nIndia Today\\nNortheast\\nIndia Today Gaming\\nCosmopolitan\\nHarper's Bazaar\\nBrides Today\\nIshq FM\\nAaj Tak\\nGNTTV\\niChowk\\nKisan Tak\\nLallantop\\nMalyalam\\nBangla\\nSports Tak\\nCrime Tak\",\n",
       " \"Aajtak Campus\\nAstro tak\\nSubscribe\\nHome\\nBudget 2024\\nMagazine\\nCover Story Editor's Note Deep Dive Interview The Buzz\\nBT TV\\nMarket Today Easynomics Drive Today BT Explainer\\nMarket Today\",\n",
       " 'Trending Stocks Indices Stocks List Stocks News Share Market News IPO Corner\\nTech Today\\nUnbox Today Authen Tech Tech Deck Tech Shorts\\nMoney Today\\nTax Investment Insurance Tools & Calculator',\n",
       " 'Mutual Funds\\nIndustry\\nBanking IT Auto Energy Commodities Pharma Real Estate Telecom\\nVisual Stories\\nBT Reels\\nevents\\nSpecial\\nPMS Today Immersives Economic Indicators UPSTART India Weather NRI',\n",
       " 'BT-TR GCC Listing\\nClear all\\nSearch\\nCOMPANIES\\nNo Data Found\\nINDICES ANALYSIS\\nNo Data Found\\nAMCs\\nNo Data Found\\nMUTUAL FUNDS\\nNo Data Found\\nNEWS\\nNo Data Found\\nSign in\\nSubscribe\\nHome\\nBudget 2024\\nMagazine',\n",
       " \"Cover Story\\nEditor's Note\\nDeep Dive\\nInterview\\nThe Buzz\\nBT TV\\nMarket Today\\nEasynomics\\nDrive Today\\nBT Explainer\\nMarket Today\\nTrending Stocks\\nIndices\\nStocks List\\nStocks News\\nShare Market News\\nIPO Corner\",\n",
       " 'Tech Today\\nUnbox Today\\nAuthen Tech\\nTech Deck\\nTech Shorts\\nMoney Today\\nTax\\nInvestment\\nInsurance\\nTools & Calculator\\nMutual Funds\\nIndustry\\nBanking\\nIT\\nAuto\\nEnergy\\nCommodities\\nPharma\\nReal Estate\\nTelecom',\n",
       " 'Visual Stories\\nBT Reels\\nPMS Today\\nImmersives\\nEconomic Indicators\\nUPSTART\\nIndia\\nWeather\\nNRI\\nBT-TR GCC Listing\\nevents\\nSpecial',\n",
       " 'Budget 2024 Special Offer: Subscribe To Business Today – 1YR just for ₹5200 ₹499\\nSUBSCRIBE\\nNews\\nMagazine\\nDeep Dive',\n",
       " \"From Maruti to Tata Motors, India's top carmakers are racing to meet CNG demand, but EVs and infra hurdles loom\\nFeedback\",\n",
       " \"From Maruti to Tata Motors, India's top carmakers are racing to meet CNG demand, but EVs and infra hurdles loom\",\n",
       " \"India's top carmakers are racing to cater to the increasing demand for CNG-powered vehicles from wallet-conscious customers. But there are challenges ahead, including the limited number of CNG filling stations and the potential challenge from electric vehicles\",\n",
       " 'Astha Oriel\\nPrint Edition: Sep 01, 2024\\nJumping On The CNG Bandwagon',\n",
       " 'Long queues outside CNG (compressed natural gas) filling stations are a common enough sight in Delhi, Mumbai, and other metros. But there has been a significant change in recent years, and it has almost gone unnoticed. The vehicles waiting patiently at these pumps aren’t limited to autorickshaws or taxis anymore; there’s a sizeable chunk of private passenger vehicles as well.',\n",
       " 'Economy\\nCorporate\\nMarkets\\nTrending\\nMagazine\\nCOVID-19\\nInfra\\nPharma\\nReal Estate\\nStocks\\nAuto\\nWorld\\nEducation\\nJobs\\nLifestyle\\nAbout us\\nContact us\\nAdvertise with us\\nPrivacy Policy\\nTerms and Conditions',\n",
       " 'Partners\\nPress Releases\\nDesign Partner\\nCopyright©2024 Living Media India Limited. For reprint rights: Syndications Today\\nAdd Business Today to Home Screen\\nHome\\nMarket\\nBT TV\\nReels\\nMenu\\nMenu']"
      ]
     },
     "execution_count": 21,
     "metadata": {},
     "output_type": "execute_result"
    }
   ],
   "source": [
    "chunks\n"
   ]
  },
  {
   "cell_type": "code",
   "execution_count": 25,
   "id": "cf0641e9-eb08-4a48-9f6d-a56bd2d76778",
   "metadata": {},
   "outputs": [
    {
     "data": {
      "text/plain": [
       "[\"Business Today\\n\\nBT Bazaar\\n\\nIndia Today\\n\\nNortheast\\n\\nIndia Today Gaming\\n\\nCosmopolitan\\n\\nHarper's Bazaar\\n\\nBrides Today\\n\\nIshq FM\\n\\nAaj Tak\\n\\nGNTTV\\n\\niChowk\\n\\nKisan Tak\\n\\nLallantop\\n\\nMalyalam\\n\\nBangla\\n\\nSports Tak\",\n",
       " \"Crime Tak\\n\\nAajtak Campus\\n\\nAstro tak\\n\\nSubscribe\\n\\nHome\\n\\nBudget 2024\\n\\nMagazine\\n\\nCover Story Editor's Note Deep Dive Interview The Buzz\\n\\nBT TV\\n\\nMarket Today Easynomics Drive Today BT Explainer\",\n",
       " 'Market Today\\n\\nTrending Stocks Indices Stocks List Stocks News Share Market News IPO Corner\\n\\nTech Today\\n\\nUnbox Today Authen Tech Tech Deck Tech Shorts\\n\\nMoney Today',\n",
       " 'Tax Investment Insurance Tools & Calculator\\n\\nMutual Funds\\n\\nIndustry\\n\\nBanking IT Auto Energy Commodities Pharma Real Estate Telecom\\n\\nVisual Stories\\n\\nBT Reels\\n\\nevents\\n\\nSpecial',\n",
       " 'PMS Today Immersives Economic Indicators UPSTART India Weather NRI\\n\\nBT-TR GCC Listing\\n\\nClear all\\n\\nSearch\\n\\nCOMPANIES\\n\\nNo Data Found\\n\\nINDICES ANALYSIS\\n\\nNo Data Found\\n\\nAMCs\\n\\nNo Data Found\\n\\nMUTUAL FUNDS',\n",
       " \"No Data Found\\n\\nNEWS\\n\\nNo Data Found\\n\\nSign in\\n\\nSubscribe\\n\\nHome\\n\\nBudget 2024\\n\\nMagazine\\n\\nCover Story\\n\\nEditor's Note\\n\\nDeep Dive\\n\\nInterview\\n\\nThe Buzz\\n\\nBT TV\\n\\nMarket Today\\n\\nEasynomics\\n\\nDrive Today\",\n",
       " 'BT Explainer\\n\\nMarket Today\\n\\nTrending Stocks\\n\\nIndices\\n\\nStocks List\\n\\nStocks News\\n\\nShare Market News\\n\\nIPO Corner\\n\\nTech Today\\n\\nUnbox Today\\n\\nAuthen Tech\\n\\nTech Deck\\n\\nTech Shorts\\n\\nMoney Today\\n\\nTax',\n",
       " 'Investment\\n\\nInsurance\\n\\nTools & Calculator\\n\\nMutual Funds\\n\\nIndustry\\n\\nBanking\\n\\nIT\\n\\nAuto\\n\\nEnergy\\n\\nCommodities\\n\\nPharma\\n\\nReal Estate\\n\\nTelecom\\n\\nVisual Stories\\n\\nBT Reels\\n\\nPMS Today\\n\\nImmersives',\n",
       " 'Economic Indicators\\n\\nUPSTART\\n\\nIndia\\n\\nWeather\\n\\nNRI\\n\\nBT-TR GCC Listing\\n\\nevents\\n\\nSpecial\\n\\nBudget 2024 Special Offer: Subscribe To Business Today – 1YR just for ₹5200 ₹499\\n\\nSUBSCRIBE\\n\\nNews\\n\\nMagazine',\n",
       " \"Deep Dive\\n\\nFrom Maruti to Tata Motors, India's top carmakers are racing to meet CNG demand, but EVs and infra hurdles loom\\n\\nFeedback\",\n",
       " \"From Maruti to Tata Motors, India's top carmakers are racing to meet CNG demand, but EVs and infra hurdles loom\",\n",
       " \"India's top carmakers are racing to cater to the increasing demand for CNG-powered vehicles from wallet-conscious customers. But there are challenges ahead, including the limited number of CNG\",\n",
       " 'filling stations and the potential challenge from electric vehicles',\n",
       " 'Astha Oriel\\n\\nPrint Edition: Sep 01, 2024\\n\\nJumping On The CNG Bandwagon',\n",
       " 'Long queues outside CNG (compressed natural gas) filling stations are a common enough sight in Delhi, Mumbai, and other metros. But there has been a significant change in recent years, and it has',\n",
       " 'almost gone unnoticed. The vehicles waiting patiently at these pumps aren’t limited to autorickshaws or taxis anymore; there’s a sizeable chunk of private passenger vehicles as well.',\n",
       " 'Economy\\n\\nCorporate\\n\\nMarkets\\n\\nTrending\\n\\nMagazine\\n\\nCOVID-19\\n\\nInfra\\n\\nPharma\\n\\nReal Estate\\n\\nStocks\\n\\nAuto\\n\\nWorld\\n\\nEducation\\n\\nJobs\\n\\nLifestyle\\n\\nAbout us\\n\\nContact us\\n\\nAdvertise with us\\n\\nPrivacy Policy',\n",
       " 'Terms and Conditions\\n\\nPartners\\n\\nPress Releases\\n\\nDesign Partner\\n\\nCopyright©2024 Living Media India Limited. For reprint rights: Syndications Today\\n\\nAdd Business Today to Home Screen\\n\\nHome\\n\\nMarket',\n",
       " 'BT TV\\n\\nReels\\n\\nMenu\\n\\nMenu']"
      ]
     },
     "execution_count": 25,
     "metadata": {},
     "output_type": "execute_result"
    }
   ],
   "source": [
    "from langchain.text_splitter import RecursiveCharacterTextSplitter\n",
    "\n",
    "recur_splitor = RecursiveCharacterTextSplitter(\n",
    "    separators=['\\n\\n', '\\n', \" \"],\n",
    "    chunk_size=200,\n",
    "    chunk_overlap=0\n",
    ")\n",
    "\n",
    "chunks = recur_splitor.split_text(docs[0].page_content)\n",
    "chunks"
   ]
  },
  {
   "cell_type": "code",
   "execution_count": 26,
   "id": "ba18fcca-e353-4057-9498-fbcb2ea2a27d",
   "metadata": {},
   "outputs": [
    {
     "data": {
      "text/plain": [
       "19"
      ]
     },
     "execution_count": 26,
     "metadata": {},
     "output_type": "execute_result"
    }
   ],
   "source": [
    "len(chunks)\n"
   ]
  },
  {
   "cell_type": "code",
   "execution_count": null,
   "id": "c0a851c2-8f65-4f0c-a619-06bd6e3b715f",
   "metadata": {},
   "outputs": [],
   "source": []
  }
 ],
 "metadata": {
  "kernelspec": {
   "display_name": "Python 3 (ipykernel)",
   "language": "python",
   "name": "python3"
  },
  "language_info": {
   "codemirror_mode": {
    "name": "ipython",
    "version": 3
   },
   "file_extension": ".py",
   "mimetype": "text/x-python",
   "name": "python",
   "nbconvert_exporter": "python",
   "pygments_lexer": "ipython3",
   "version": "3.12.4"
  }
 },
 "nbformat": 4,
 "nbformat_minor": 5
}
